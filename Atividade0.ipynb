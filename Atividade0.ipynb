{
  "nbformat": 4,
  "nbformat_minor": 0,
  "metadata": {
    "colab": {
      "provenance": [],
      "authorship_tag": "ABX9TyP+9sAmZhlyX/2OwQ6IHaS1"
    },
    "kernelspec": {
      "name": "python3",
      "display_name": "Python 3"
    },
    "language_info": {
      "name": "python"
    }
  },
  "cells": [
    {
      "cell_type": "markdown",
      "source": [
        "# Ativadade 0 - Uso do Jupyter, Git, Matplotlib e Transformações Lineares.\n",
        "\n",
        "Para desenvolvermos os códigos das aplicações é fundamental importar as bibliotecas necessárias, como o Matlpotlib para a geração dos gráficos."
      ],
      "metadata": {
        "id": "ONg-YUvGLSb8"
      }
    },
    {
      "cell_type": "code",
      "source": [
        "import matplotlib.pyplot as plt"
      ],
      "metadata": {
        "id": "l5JotRf3RCVe"
      },
      "execution_count": null,
      "outputs": []
    },
    {
      "cell_type": "markdown",
      "source": [
        "Além da biblioteca numpy para efetuarmos os cálculos no universo das matrizes."
      ],
      "metadata": {
        "id": "lSlEdE4lROHg"
      }
    },
    {
      "cell_type": "code",
      "source": [
        "import numpy as np\n"
      ],
      "metadata": {
        "id": "v-fxrgNiRig3"
      },
      "execution_count": null,
      "outputs": []
    },
    {
      "cell_type": "markdown",
      "source": [
        "# 1. Rotação horária de 90°."
      ],
      "metadata": {
        "id": "4LDINQBWQm44"
      }
    },
    {
      "cell_type": "markdown",
      "source": [
        "Temos que o espaço vetorial $\\mathbb{R}^2$ é gerado a partir dos vetores unitários (1, 0), (0,1). De forma gráfica temos:"
      ],
      "metadata": {
        "id": "31KlhpGTPX1K"
      }
    }
  ]
}